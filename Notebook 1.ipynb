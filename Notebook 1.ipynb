{
    "cells": [
        {
            "cell_type": "markdown",
            "metadata": {
                "collapsed": true
            },
            "source": "# My Jupyter Notebook on IBM Watson Studio"
        },
        {
            "cell_type": "markdown",
            "metadata": {},
            "source": "**Yulieth Lubo**\n\nData Science"
        },
        {
            "cell_type": "markdown",
            "metadata": {},
            "source": "_I am interested in data science because I love handle data. I'm really curious in how to solve real-life problems and give solutions trough research and analysis._\n\n_I'm really interested in learning how to use all of those tools we are working on in this course_"
        },
        {
            "cell_type": "markdown",
            "metadata": {},
            "source": "### Given an age calculate if it is of legal age"
        },
        {
            "cell_type": "code",
            "execution_count": 5,
            "metadata": {},
            "outputs": [
                {
                    "name": "stdout",
                    "output_type": "stream",
                    "text": "You're of age\n"
                }
            ],
            "source": "age = 25\nif age > 18:\n    print(\"You're of age\")\nelse:\n    print(\"You are a minor\")"
        },
        {
            "cell_type": "markdown",
            "metadata": {},
            "source": "# Things you should **never** forget to pay attention to:\n\n1. See what is around you.\n2. Look up, appreciate the colors of the sky.\n3. Look to the sun, the moon and stars.\n\n* This will make you happier.\n* You will learn to appreciate that the things that matter aren't just in one screen.\n\n*The same thing happens with the people around you, never forget to appreciate what or who is around you.*\n\n-----------\n<img src=\"https://newevolutiondesigns.com/images/freebies/nature-hd-background-preview-2.jpg\" alt=\"alternatetext\">\n\n\n> Author: Yulieth Lubo\n\n> Image credits to <a href=\"https://newevolutiondesigns.com\">New Evolutions desings</a>"
        },
        {
            "cell_type": "code",
            "execution_count": null,
            "metadata": {},
            "outputs": [],
            "source": ""
        }
    ],
    "metadata": {
        "kernelspec": {
            "display_name": "Python 3.8",
            "language": "python",
            "name": "python3"
        },
        "language_info": {
            "codemirror_mode": {
                "name": "ipython",
                "version": 3
            },
            "file_extension": ".py",
            "mimetype": "text/x-python",
            "name": "python",
            "nbconvert_exporter": "python",
            "pygments_lexer": "ipython3",
            "version": "3.8.12"
        }
    },
    "nbformat": 4,
    "nbformat_minor": 1
}